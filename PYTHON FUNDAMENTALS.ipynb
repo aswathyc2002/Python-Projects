{
 "cells": [
  {
   "cell_type": "code",
   "execution_count": 1,
   "id": "8ac18cf4-b2c2-4a3f-bee5-43f863b3bfda",
   "metadata": {},
   "outputs": [
    {
     "name": "stdout",
     "output_type": "stream",
     "text": [
      "Name: Aswathy\n",
      "Student_number: ST1001\n",
      "Email: aswathyvelayudhan.c@gmail.com\n"
     ]
    }
   ],
   "source": [
    "#1. print name, student number and email address\n",
    "\n",
    "print('Name:','Aswathy')\n",
    "print('Student_number:','ST1001')\n",
    "print('Email:','aswathyvelayudhan.c@gmail.com')"
   ]
  },
  {
   "cell_type": "code",
   "execution_count": 3,
   "id": "8eb538f4-0406-4487-bde1-a9fe6f02a1f7",
   "metadata": {},
   "outputs": [
    {
     "name": "stdout",
     "output_type": "stream",
     "text": [
      "Aswathy\n",
      "ST1001\n",
      "aswathyvelayudhan.c@gmail.com\n"
     ]
    }
   ],
   "source": [
    "#2. print  name, student number and email address using escape sequences\n",
    "\n",
    "print(\"Aswathy\\nST1001\\naswathyvelayudhan.c@gmail.com\")"
   ]
  },
  {
   "cell_type": "code",
   "execution_count": 5,
   "id": "e03b407a-d4d6-4e28-8dd9-9d2b0ce20cf4",
   "metadata": {},
   "outputs": [
    {
     "name": "stdout",
     "output_type": "stream",
     "text": [
      "14 + 7 = 21\n",
      "14 * 7 = 98\n",
      "14 - 7 = 7\n",
      "14 / 7 = 2.0\n"
     ]
    }
   ],
   "source": [
    "#3. add, subtract, multiply and divide the two numbers\n",
    "\n",
    "num1 = 14\n",
    "num2 = 7\n",
    "\n",
    "print(f\"{num1} + {num2} = {num1 + num2}\")\n",
    "print(f\"{num1} * {num2} = {num1 * num2}\")\n",
    "print(f\"{num1} - {num2} = {num1 - num2}\")\n",
    "print(f\"{num1} / {num2} = {num1 / num2}\")"
   ]
  },
  {
   "cell_type": "code",
   "execution_count": 7,
   "id": "22ea1a22-0f76-4f1b-8406-6292a066d467",
   "metadata": {},
   "outputs": [
    {
     "name": "stdout",
     "output_type": "stream",
     "text": [
      "1\n",
      "2\n",
      "3\n",
      "4\n",
      "5\n"
     ]
    }
   ],
   "source": [
    "#4. print the numbers from 1 to 5 range\n",
    "\n",
    "for i in range (1,6):\n",
    "    print(i)"
   ]
  },
  {
   "cell_type": "code",
   "execution_count": 9,
   "id": "1e8e434e-f830-4c59-bdde-9ebde11e0ef2",
   "metadata": {},
   "outputs": [
    {
     "name": "stdout",
     "output_type": "stream",
     "text": [
      "\"SDK\" stands for \"Software Development Kit\", whereas\n",
      "\"IDE\" stands for \"Integrated Development Environment\".\n"
     ]
    }
   ],
   "source": [
    "#5. Using print function with quotation mark and line breaks\n",
    "\n",
    "print ('\"SDK\" stands for \"Software Development Kit\", whereas\\n\"IDE\" stands for \"Integrated Development Environment\".')"
   ]
  },
  {
   "cell_type": "code",
   "execution_count": 11,
   "id": "517be275-5dc0-47a2-8488-561835d7b5e9",
   "metadata": {},
   "outputs": [
    {
     "name": "stdout",
     "output_type": "stream",
     "text": [
      "python is an \"awesome\" language.\n",
      "python\n",
      "\t2023\n",
      "I'm from Entri.\n",
      "5\n",
      "e\n",
      "Entri\n",
      "2023\n",
      "Entr2023\n",
      "Entri*20"
     ]
    }
   ],
   "source": [
    "#6. Practice and check the outputs\n",
    "\n",
    "print(\"python is an \\\"awesome\\\" language.\")\n",
    "print(\"python\\n\\t2023\")\n",
    "print('I\\'m from Entri. \\b')\n",
    "print(\"\\65\")\n",
    "print(\"\\x65\")\n",
    "print(\"Entri\", \"2023\", sep=\"\\n\")\n",
    "print(\"Entri\", \"2023\", sep=\"\\b\")\n",
    "print(\"Entri\", \"2023\", sep=\"*\", end=\"\\b\\b\\b\\b\")"
   ]
  },
  {
   "cell_type": "code",
   "execution_count": 13,
   "id": "6546cdc1-0d71-4afb-aad5-e637fcf1d9ad",
   "metadata": {},
   "outputs": [
    {
     "name": "stdout",
     "output_type": "stream",
     "text": [
      "Type of num: <class 'int'>\n",
      "Type of textum: <class 'str'>\n",
      "Type of decimal: <class 'float'>\n"
     ]
    }
   ],
   "source": [
    "#7. print the type of each variable\n",
    "\n",
    "num = 23\n",
    "textum = \"57\"\n",
    "decimal = 98.3\n",
    "\n",
    "print(\"Type of num:\",type(num))\n",
    "print(\"Type of textum:\",type(textum))\n",
    "print(\"Type of decimal:\",type(decimal))"
   ]
  },
  {
   "cell_type": "code",
   "execution_count": 15,
   "id": "ee3a5015-1d9c-488b-a747-2dbdaec6f5c9",
   "metadata": {},
   "outputs": [
    {
     "name": "stdout",
     "output_type": "stream",
     "text": [
      "sum of variables: 178.3\n",
      "Type of total: <class 'float'>\n"
     ]
    }
   ],
   "source": [
    "# Sum of varibales\n",
    "total = num + int(textum) + decimal\n",
    "print(f\"sum of variables: {total}\")\n",
    "print(f\"Type of total: {type(total)}\")"
   ]
  },
  {
   "cell_type": "code",
   "execution_count": 17,
   "id": "a9789919-0163-416b-885c-086f1ae1b35d",
   "metadata": {},
   "outputs": [
    {
     "name": "stdout",
     "output_type": "stream",
     "text": [
      "Total number of minutes in a year: 525600\n"
     ]
    }
   ],
   "source": [
    "#8. calculate number of minutes in a year \n",
    "\n",
    "days_in_year = 365\n",
    "hours_in_day = 24\n",
    "minutes_in_hour = 60\n",
    "\n",
    "total_minutes = days_in_year * hours_in_day * minutes_in_hour\n",
    "print(f\"Total number of minutes in a year: {total_minutes}\")"
   ]
  },
  {
   "cell_type": "code",
   "execution_count": 21,
   "id": "a2bf1160-3598-489e-a0fa-fdff5b3b2ddf",
   "metadata": {},
   "outputs": [
    {
     "name": "stdin",
     "output_type": "stream",
     "text": [
      "Please enter your name Aswathy\n"
     ]
    },
    {
     "name": "stdout",
     "output_type": "stream",
     "text": [
      "Hi Aswathy, Welcome to python programming :)\n"
     ]
    }
   ],
   "source": [
    "#9. Ask user for their name and greet them\n",
    "\n",
    "name = input(\"Please enter your name\")\n",
    "print(f\"Hi {name}, Welcome to python programming :)\")"
   ]
  },
  {
   "cell_type": "code",
   "execution_count": 25,
   "id": "7893b2c9-0ced-4696-a11a-4a8b4ea4f5f8",
   "metadata": {},
   "outputs": [
    {
     "name": "stdin",
     "output_type": "stream",
     "text": [
      "Please enter the amount in pounds: 50\n"
     ]
    },
    {
     "name": "stdout",
     "output_type": "stream",
     "text": [
      "£50.0 are $63.5\n"
     ]
    }
   ],
   "source": [
    "#10. Converting pounds to dollars\n",
    "\n",
    "Exchange_Rate = 1.27\n",
    "pounds = float(input(\"Please enter the amount in pounds:\"))\n",
    "dollars = pounds * Exchange_Rate\n",
    "print(f\"£{pounds} are ${dollars}\")"
   ]
  },
  {
   "cell_type": "code",
   "execution_count": null,
   "id": "3f73fca0-5d1e-48f5-88a0-3dd627b8b49e",
   "metadata": {},
   "outputs": [],
   "source": []
  }
 ],
 "metadata": {
  "kernelspec": {
   "display_name": "Python [conda env:base] *",
   "language": "python",
   "name": "conda-base-py"
  },
  "language_info": {
   "codemirror_mode": {
    "name": "ipython",
    "version": 3
   },
   "file_extension": ".py",
   "mimetype": "text/x-python",
   "name": "python",
   "nbconvert_exporter": "python",
   "pygments_lexer": "ipython3",
   "version": "3.12.7"
  }
 },
 "nbformat": 4,
 "nbformat_minor": 5
}
