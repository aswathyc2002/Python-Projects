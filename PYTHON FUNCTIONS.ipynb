{
 "cells": [
  {
   "cell_type": "code",
   "execution_count": 1,
   "id": "b94760ce-cf70-4f8e-9270-fa897717cd21",
   "metadata": {},
   "outputs": [
    {
     "name": "stdout",
     "output_type": "stream",
     "text": [
      "The sum of 2 and 10 is: 12\n",
      "The sum of 2 and 5 is: 7\n",
      "The product of 2,5 and 4 is: 40\n"
     ]
    }
   ],
   "source": [
    "# Print sum of the first two arguments if the third argument is none and printing the product of all three arguments if the third argument is not None\n",
    "\n",
    "def calculations(a, b=10, c=None):\n",
    "    if c is None:\n",
    "        print(f\"The sum of {a} and {b} is:\",(a+b))\n",
    "    else:\n",
    "        print(f\"The product of {a},{b} and {c} is:\",(a*b*c))\n",
    "\n",
    "calculations(2)\n",
    "calculations(2,5)\n",
    "calculations(2,5,4)"
   ]
  },
  {
   "cell_type": "code",
   "execution_count": 3,
   "id": "d2084081-31df-42d6-bec3-37809f184340",
   "metadata": {},
   "outputs": [
    {
     "name": "stdout",
     "output_type": "stream",
     "text": [
      "The string greater than 5 is: ['pigeon', 'elephent']\n"
     ]
    }
   ],
   "source": [
    "# A list of strings returns as a new list with only the strings greater than or equal to five\n",
    "\n",
    "def long_strings(strings):\n",
    "    return[ s for s in strings if len(s)>=5]\n",
    "    \n",
    "strings = [\"cat\",\"dog\",\"pigeon\",\"elephent\",\"ant\"]\n",
    "result = long_strings(strings)\n",
    "print(f\"The string greater than 5 is:\",result)"
   ]
  },
  {
   "cell_type": "code",
   "execution_count": 5,
   "id": "12657aec-1b3f-4831-a9a9-126d1d63fdd1",
   "metadata": {},
   "outputs": [
    {
     "name": "stdout",
     "output_type": "stream",
     "text": [
      "17\n"
     ]
    }
   ],
   "source": [
    "# Evaluating a given mathematical expression using eval() function\n",
    "\n",
    "expression = \"3*5+2\"\n",
    "result = eval(expression)\n",
    "print(result)"
   ]
  },
  {
   "cell_type": "code",
   "execution_count": 7,
   "id": "3aef03a4-df92-4d30-b482-f82d90a45a52",
   "metadata": {},
   "outputs": [
    {
     "name": "stdout",
     "output_type": "stream",
     "text": [
      "[2, 5, 3, 7, 13]\n"
     ]
    }
   ],
   "source": [
    "# Filter out the prime numbers from a given list of integers using filter() function\n",
    "\n",
    "def prime_numbers_list(n):\n",
    "    if n <= 1:\n",
    "        return False\n",
    "    for i in range (2,int(n**0.5)+1):\n",
    "        if n % i == 0:\n",
    "            return False\n",
    "    return True\n",
    "\n",
    "numbers = [2,5,8,9,6,3,7,4,1,12,13,36,54,]\n",
    "prime_numbers = list(filter(prime_numbers_list,numbers))\n",
    "print(prime_numbers)"
   ]
  },
  {
   "cell_type": "code",
   "execution_count": 9,
   "id": "96f86d88-f44b-4a40-b42e-5a15f9f85d22",
   "metadata": {},
   "outputs": [
    {
     "name": "stdout",
     "output_type": "stream",
     "text": [
      "['HELLO', 'WORLD', 'PYTHON', 'IS', 'FUN']\n"
     ]
    }
   ],
   "source": [
    "# Converting a list of strings to uppercase using the map() function\n",
    "    \n",
    "words = [\"hello\", \"world\", \"python\", \"is\", \"fun\"]\n",
    "uppercase_words = list(map(str.upper, words))\n",
    "print(uppercase_words)"
   ]
  },
  {
   "cell_type": "code",
   "execution_count": null,
   "id": "b7e1aba6-612e-4413-89c0-989ad2cb9b15",
   "metadata": {},
   "outputs": [],
   "source": []
  }
 ],
 "metadata": {
  "kernelspec": {
   "display_name": "Python [conda env:base] *",
   "language": "python",
   "name": "conda-base-py"
  },
  "language_info": {
   "codemirror_mode": {
    "name": "ipython",
    "version": 3
   },
   "file_extension": ".py",
   "mimetype": "text/x-python",
   "name": "python",
   "nbconvert_exporter": "python",
   "pygments_lexer": "ipython3",
   "version": "3.12.7"
  }
 },
 "nbformat": 4,
 "nbformat_minor": 5
}
