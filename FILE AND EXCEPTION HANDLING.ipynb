{
 "cells": [
  {
   "cell_type": "code",
   "execution_count": 1,
   "id": "f26cc099-1219-4e24-9f8a-52cf40d9c3cc",
   "metadata": {},
   "outputs": [
    {
     "name": "stdout",
     "output_type": "stream",
     "text": [
      "Content of the opened file is:\n",
      "Hello, This is demo file creating for showing the output of read the file and display the content\n"
     ]
    }
   ],
   "source": [
    "# Reading a file and display its contents\n",
    "\n",
    "with open ('Demo_file.txt','r') as file:\n",
    "    content = file.read()\n",
    "    print(\"Content of the opened file is:\")\n",
    "    print(content)"
   ]
  },
  {
   "cell_type": "code",
   "execution_count": 3,
   "id": "b7f109bc-3ebc-47ca-b6e0-3d2f54383ea5",
   "metadata": {},
   "outputs": [
    {
     "name": "stdout",
     "output_type": "stream",
     "text": [
      "File copied sucessfully\n"
     ]
    }
   ],
   "source": [
    "# Copy the contents of one file to another file\n",
    "\n",
    "with open ('Demo_file.txt','r') as existing, open ('Demo_file_new.txt','w') as newfile:\n",
    "     newfile.write(existing.read())\n",
    "print(\"File copied sucessfully\")"
   ]
  },
  {
   "cell_type": "code",
   "execution_count": 5,
   "id": "4693a411-caec-455f-a6ce-959db65819ce",
   "metadata": {},
   "outputs": [
    {
     "name": "stdout",
     "output_type": "stream",
     "text": [
      "Total number of words in the file is: 18\n"
     ]
    }
   ],
   "source": [
    "# reading the content of file and counting the total number of words in that file \n",
    "\n",
    "with open ('Demo_file_new.txt','r') as file:\n",
    "    content = file.read()\n",
    "    words = content.split()\n",
    "    words_count = len(words)\n",
    "    print(\"Total number of words in the file is:\",words_count)"
   ]
  },
  {
   "cell_type": "code",
   "execution_count": 7,
   "id": "f77fb209-62dc-4d7a-b08e-98379bed7fa9",
   "metadata": {},
   "outputs": [
    {
     "name": "stdin",
     "output_type": "stream",
     "text": [
      "Enter a number:  A\n"
     ]
    },
    {
     "name": "stdout",
     "output_type": "stream",
     "text": [
      "Error: Invalid input. Please enter a valid integer.\n"
     ]
    }
   ],
   "source": [
    "# input a string and converts it to an integer, use try-except to block to handle exceptions\n",
    "\n",
    "def converting_to_integer():\n",
    "    try:\n",
    "        number = int(input(\"Enter a number: \"))\n",
    "        print(f\"Success!!! The integer value is {number}.\")\n",
    "    except ValueError:\n",
    "        print(\"Error: Invalid input. Please enter a valid integer.\")\n",
    "\n",
    "converting_to_integer()"
   ]
  },
  {
   "cell_type": "code",
   "execution_count": 9,
   "id": "df4a268e-c22d-45e1-9dfa-14dc7ffc8791",
   "metadata": {},
   "outputs": [
    {
     "name": "stdin",
     "output_type": "stream",
     "text": [
      "Enter a list of integers separated by spaces: 7, 4, 12, 25, 45, 48, 95, 45, 62, \n"
     ]
    },
    {
     "name": "stdout",
     "output_type": "stream",
     "text": [
      "Error; invalid literal for int() with base 10: '7,'\n"
     ]
    }
   ],
   "source": [
    "# input a list of integers and raise an exception if any of the integers are negative\n",
    "\n",
    "def get_integers():\n",
    "    try:\n",
    "        user_input = input(\"Enter a list of integers separated by spaces:\")\n",
    "        numbers = list(map(int,user_input.split()))\n",
    "        for num in numbers:        \n",
    "            if num < 0:\n",
    "                raise valueError(\"Negative numbers are not allowed.\")\n",
    "        print(\"You entered a valid list of positive integers:\",numbers)\n",
    "    except ValueError as e:\n",
    "        print(\"Error;\",e)\n",
    "\n",
    "get_integers()"
   ]
  },
  {
   "cell_type": "code",
   "execution_count": 11,
   "id": "9755b2c9-ac0c-47bf-acac-1280602fc1a4",
   "metadata": {},
   "outputs": [
    {
     "name": "stdin",
     "output_type": "stream",
     "text": [
      "Enter a list of integers separated by spaces: 32\n"
     ]
    },
    {
     "name": "stdout",
     "output_type": "stream",
     "text": [
      "The average is: 32.0\n",
      "Program has finished running\n"
     ]
    }
   ],
   "source": [
    "# Input a list of integers and compute the average of those integers\n",
    "\n",
    "def compute_average():\n",
    "    try:\n",
    "        user_input = input(\"Enter a list of integers separated by spaces:\")\n",
    "        numbers = [int(num) for num in user_input.split()]\n",
    "        average = sum(numbers) / len(numbers)\n",
    "        print(f\"The average is: {average}\")\n",
    "    except ValueError:\n",
    "        print(\"Error: Please enter only integers separated by spaces\")\n",
    "    except ZeroDivisionError:\n",
    "        print(\"Error: Without any values cannot compute the average\")\n",
    "    finally:\n",
    "        print(\"Program has finished running\")\n",
    "\n",
    "compute_average()"
   ]
  },
  {
   "cell_type": "code",
   "execution_count": null,
   "id": "9345c474-69a7-4332-93de-4c71acc08cef",
   "metadata": {},
   "outputs": [],
   "source": [
    "# input a file name and wrie a string to that file\n",
    "\n",
    "def write_file():\n",
    "    try:\n",
    "        filename = input (\"Enter the filename:\")\n",
    "        content = \"Welcome! This is a sample text written file.\"\n",
    "        with open(filename,'w') as file:\n",
    "            file.write(content)\n",
    "        print(\"Welcome, File has been written sucessfully.\")\n",
    "    except Exception as e:\n",
    "        print(f\"An error occured: {e}\")\n",
    "    finally:\n",
    "        print(\"Program has finished sucessfully\")\n",
    "\n",
    "write_file()"
   ]
  },
  {
   "cell_type": "code",
   "execution_count": null,
   "id": "ffa6e0a2-1dfd-447d-b72f-012bb77392a8",
   "metadata": {},
   "outputs": [],
   "source": []
  }
 ],
 "metadata": {
  "kernelspec": {
   "display_name": "Python [conda env:base] *",
   "language": "python",
   "name": "conda-base-py"
  },
  "language_info": {
   "codemirror_mode": {
    "name": "ipython",
    "version": 3
   },
   "file_extension": ".py",
   "mimetype": "text/x-python",
   "name": "python",
   "nbconvert_exporter": "python",
   "pygments_lexer": "ipython3",
   "version": "3.12.7"
  }
 },
 "nbformat": 4,
 "nbformat_minor": 5
}
