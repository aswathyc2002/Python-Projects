{
 "cells": [
  {
   "cell_type": "code",
   "execution_count": 1,
   "id": "79b3c153-450f-484b-aee5-1f53a4fbf52e",
   "metadata": {},
   "outputs": [],
   "source": [
    "# Manage a university's course catalog\n",
    "\n",
    "#Base class\n",
    "class Course:\n",
    "    def __init__(self, course_code, course_name, credit_hours):\n",
    "        self.course_code = course_code\n",
    "        self.course_name = course_name\n",
    "        self.credit_hours = credit_hours\n",
    "\n",
    "    def Course_details(self):\n",
    "        return f\" Course code: {self.course_code}, Course name: {self.course_name}, Credit hours:{self.credit_hours}\"\n",
    "\n",
    "# subclass Core Courses\n",
    "class CoreCourse(Course):\n",
    "    def __init__(self, course_code, course_name, credit_hours, required_for_major):\n",
    "        super().__init__(course_code, course_name, credit_hours)\n",
    "        self.required_for_major = required_for_major\n",
    "\n",
    "    def CoreCourses_details(self):\n",
    "        return super().Course_details() + f\", Required for Major: {self.required_for_major}\"\n",
    "\n",
    "# subclass ElectiveCourse\n",
    "class ElectiveCourse(Course):\n",
    "    def __init__(self, course_code, course_name, credit_hours, elective_type):\n",
    "        super(). __init__(course_code, course_name, credit_hours)\n",
    "        self.elective_type = elective_type\n",
    "\n",
    "    def ElectiveCourse_details(self):\n",
    "        return super().Course_details() + f\", Elective Type: {self.elective_type}\""
   ]
  },
  {
   "cell_type": "code",
   "execution_count": 3,
   "id": "33810454-e58a-4582-8580-fd6014700606",
   "metadata": {},
   "outputs": [],
   "source": [
    "course = Course(\"CS101\", \"Introduction to Computer Science\", 3)\n",
    "core = CoreCourse('CS102', \"Data Visualization\",3,True)\n",
    "elective = ElectiveCourse('CS103', \"Data Science\",5,\"Technical\")"
   ]
  },
  {
   "cell_type": "code",
   "execution_count": 6,
   "id": "1366c11b-e05a-4c96-b8b7-18c996bfd899",
   "metadata": {},
   "outputs": [
    {
     "name": "stdout",
     "output_type": "stream",
     "text": [
      " Course code: CS101, Course name: Introduction to Computer Science, Credit hours:3\n",
      " Course code: CS102, Course name: Data Visualization, Credit hours:3, Required for Major: True\n",
      " Course code: CS103, Course name: Data Science, Credit hours:5, Elective Type: Technical\n"
     ]
    }
   ],
   "source": [
    "print(course.Course_details())      \n",
    "print(core.CoreCourses_details())  \n",
    "print(elective.ElectiveCourse_details())"
   ]
  },
  {
   "cell_type": "code",
   "execution_count": 8,
   "id": "5d5ea04f-dbd3-4c38-8737-6d6c110d07d9",
   "metadata": {},
   "outputs": [],
   "source": [
    "# Create an object of the employee class and display its name and salary\n",
    "class Employee:\n",
    "    def __init__(self,name,salary):\n",
    "        self.name = name\n",
    "        self.salary = salary\n",
    "\n",
    "    def get_name(self):\n",
    "        return self.name\n",
    "\n",
    "    def get_salary(self):\n",
    "        return self.salary"
   ]
  },
  {
   "cell_type": "code",
   "execution_count": 10,
   "id": "fe0893fe-6be3-4346-825c-23c78452a991",
   "metadata": {},
   "outputs": [],
   "source": [
    "Emp1 = Employee(\"Marvin\",70000)"
   ]
  },
  {
   "cell_type": "code",
   "execution_count": 12,
   "id": "e3ebffc1-f754-4432-99c0-650d45a67bc1",
   "metadata": {},
   "outputs": [
    {
     "name": "stdout",
     "output_type": "stream",
     "text": [
      "Employee Name: Marvin\n",
      "Salary: 70000\n"
     ]
    }
   ],
   "source": [
    "print(\"Employee Name:\", Emp1.get_name())\n",
    "print(\"Salary:\", Emp1.get_salary())"
   ]
  },
  {
   "cell_type": "code",
   "execution_count": null,
   "id": "45e97cb2-4834-4637-8a47-92ba69761d92",
   "metadata": {},
   "outputs": [],
   "source": []
  }
 ],
 "metadata": {
  "kernelspec": {
   "display_name": "Python [conda env:base] *",
   "language": "python",
   "name": "conda-base-py"
  },
  "language_info": {
   "codemirror_mode": {
    "name": "ipython",
    "version": 3
   },
   "file_extension": ".py",
   "mimetype": "text/x-python",
   "name": "python",
   "nbconvert_exporter": "python",
   "pygments_lexer": "ipython3",
   "version": "3.12.7"
  }
 },
 "nbformat": 4,
 "nbformat_minor": 5
}
