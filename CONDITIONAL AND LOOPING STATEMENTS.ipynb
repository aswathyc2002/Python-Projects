{
 "cells": [
  {
   "cell_type": "code",
   "execution_count": 2,
   "id": "7a860274-50b4-4730-8704-316e3ac07f06",
   "metadata": {},
   "outputs": [
    {
     "name": "stdin",
     "output_type": "stream",
     "text": [
      "Enter the Month number: 3\n"
     ]
    },
    {
     "name": "stdout",
     "output_type": "stream",
     "text": [
      "month 3 is March\n"
     ]
    }
   ],
   "source": [
    "# Reads an integer value between 1 and 12 from the user and prints output the corresponding month of the year.\n",
    "\n",
    "months = { 1: \"January\", 2: \"February\", 3: \"March\", 4: \"April\", 5:\"May\", 6: \"June\", \n",
    "          7: \"July\", 8: \"August\", 9: \"September\", 10: \"October\", 11: \"November\", 12: \"December\"}\n",
    "\n",
    "month_number = int(input(\"Enter the Month number:\"))\n",
    "\n",
    "if 1<= month_number <=12:\n",
    "    print(f\"month {month_number} is {months[month_number]}\")\n",
    "    \n",
    "else:\n",
    "    print(\"Invalid Month Number !!, please enter between 1 to 12.\")"
   ]
  },
  {
   "cell_type": "code",
   "execution_count": 4,
   "id": "24f90ce2-f0b1-43a6-9fa5-eb5f22951a77",
   "metadata": {},
   "outputs": [
    {
     "name": "stdin",
     "output_type": "stream",
     "text": [
      "Enter your age 63\n"
     ]
    },
    {
     "name": "stdout",
     "output_type": "stream",
     "text": [
      "Your ticket costs £2.0\n"
     ]
    }
   ],
   "source": [
    "# Calculating the Ticket price based on age, full price is 6 pounds, who are less than 16 years half price and third of the price for people who are 60 years old or more\n",
    "\n",
    "def calculate_ticket_price(age):\n",
    "    \n",
    "    full_price = 6 \n",
    "    \n",
    "    if age < 16:\n",
    "        return full_price / 2       \n",
    "    elif age >= 60:\n",
    "        return full_price / 3        \n",
    "    else:\n",
    "        return full_price\n",
    "        \n",
    "age = int(input(\"Enter your age\"))\n",
    "\n",
    "if age < 1:\n",
    "    print(\"Invalid age !!, Age cannot be less than 1 please enter a valid age.\")\n",
    "\n",
    "else :\n",
    "    ticket_price = calculate_ticket_price(age)\n",
    "    print(f\"Your ticket costs £{ticket_price}\")"
   ]
  },
  {
   "cell_type": "code",
   "execution_count": 6,
   "id": "57ea7592-735a-4029-85a1-9b4ff205a964",
   "metadata": {},
   "outputs": [
    {
     "name": "stdin",
     "output_type": "stream",
     "text": [
      "Enter your weight in (Kg):  75\n",
      "Enter your height in (m):  1.70\n"
     ]
    },
    {
     "name": "stdout",
     "output_type": "stream",
     "text": [
      "Your BMI is: 25.95\n",
      "You are in the “OverWeight” range.\n"
     ]
    }
   ],
   "source": [
    "# Calculating BMI and give weight status\n",
    "\n",
    "def calculating_bmi(weight,height):\n",
    "    return weight / (height ** 2)\n",
    "\n",
    "def bmi_status(bmi):\n",
    "\n",
    "    if bmi < 18.5:\n",
    "        return \"UnderWeight\"\n",
    "    elif 18.5 <= bmi <= 24.9:\n",
    "        return \"Normal\"\n",
    "    elif 25 <= bmi <= 29.9:\n",
    "        return \"OverWeight\"\n",
    "    else:\n",
    "        return \"Obese\"\n",
    "\n",
    "weight = float(input(\"Enter your weight in (Kg): \"))\n",
    "height = float(input(\"Enter your height in (m): \"))\n",
    "\n",
    "bmi = calculating_bmi(weight,height)\n",
    "\n",
    "print(f\"Your BMI is: {bmi:.2f}\")\n",
    "\n",
    "status = bmi_status(bmi)\n",
    "\n",
    "\n",
    "print(f\"You are in the “{status}” range.\")"
   ]
  },
  {
   "cell_type": "code",
   "execution_count": 1,
   "id": "d3ad92fe-332b-47c0-acc5-fc1ace9750ff",
   "metadata": {},
   "outputs": [
    {
     "name": "stdin",
     "output_type": "stream",
     "text": [
      "Enter the first number:  63\n",
      "Enter the second number: 15\n",
      "Enter the third number:  16\n"
     ]
    },
    {
     "name": "stdout",
     "output_type": "stream",
     "text": [
      "The greatest number is: 63\n"
     ]
    }
   ],
   "source": [
    "# print the greatest number from the user entered 3 numbers\n",
    "\n",
    "def greatest_number (num1,num2,num3):\n",
    "    \n",
    "    if num1 >= num2 and num1 >= num3:\n",
    "        return num1\n",
    "    elif num2 >= num1 and num2 >= num3:\n",
    "        return num2\n",
    "    else: \n",
    "        return num3\n",
    "\n",
    "num1 = float(input(\"Enter the first number: \"))\n",
    "num2 = float(input(\"Enter the second number:\"))\n",
    "num3 = float(input(\"Enter the third number: \"))\n",
    "\n",
    "greatest = greatest_number (num1,num2,num3)\n",
    "print(f\"The greatest number is: {greatest:.0f}\")"
   ]
  },
  {
   "cell_type": "code",
   "execution_count": 3,
   "id": "ff78e598-e981-4c72-8800-77f2e17771e2",
   "metadata": {},
   "outputs": [
    {
     "name": "stdin",
     "output_type": "stream",
     "text": [
      "Enter a number to find its factorial:  5\n"
     ]
    },
    {
     "name": "stdout",
     "output_type": "stream",
     "text": [
      "The factorial of 5 is: 120\n"
     ]
    }
   ],
   "source": [
    "# Factorial of a given number using loops\n",
    "\n",
    "num = int(input(\"Enter a number to find its factorial: \"))\n",
    "\n",
    "factorial = 1\n",
    "for i in range(1, num + 1):\n",
    "    factorial *= i\n",
    "\n",
    "print(f\"The factorial of {num} is: {factorial}\")"
   ]
  },
  {
   "cell_type": "code",
   "execution_count": 5,
   "id": "93e692e4-b985-41d1-8dd5-6076ad43326a",
   "metadata": {},
   "outputs": [
    {
     "name": "stdin",
     "output_type": "stream",
     "text": [
      "Enter a number:  123456\n"
     ]
    },
    {
     "name": "stdout",
     "output_type": "stream",
     "text": [
      "The reversed number is: 654321\n"
     ]
    }
   ],
   "source": [
    "# Reverse a number using while loop\n",
    "\n",
    "num = int(input(\"Enter a number: \"))\n",
    "\n",
    "reversed_num = 0\n",
    "while num > 0:\n",
    "    digit = num % 10\n",
    "    reversed_num = reversed_num * 10 + digit\n",
    "    num //= 10\n",
    "\n",
    "print(f\"The reversed number is: {reversed_num}\")"
   ]
  },
  {
   "cell_type": "code",
   "execution_count": 7,
   "id": "dffd6da6-e6a0-453c-aea2-ed34f4f31bae",
   "metadata": {},
   "outputs": [
    {
     "name": "stdin",
     "output_type": "stream",
     "text": [
      "Enter a number:  10\n",
      "Enter the limit:  50\n"
     ]
    },
    {
     "name": "stdout",
     "output_type": "stream",
     "text": [
      "The multiples of 10 up to 50 are:\n",
      "10\n",
      "20\n",
      "30\n",
      "40\n",
      "50\n"
     ]
    }
   ],
   "source": [
    "# Finding the multiple of a number using loop\n",
    "\n",
    "num = int(input(\"Enter a number: \"))\n",
    "limit = int(input(\"Enter the limit: \"))\n",
    "\n",
    "\n",
    "print(f\"The multiples of {num} up to {limit} are:\")\n",
    "for i in range(1, limit + 1):\n",
    "    multiple = num * i\n",
    "    if multiple <= limit:\n",
    "        print(multiple)"
   ]
  },
  {
   "cell_type": "code",
   "execution_count": 9,
   "id": "abfa3fe1-9353-4406-abd0-c9b0572039ee",
   "metadata": {},
   "outputs": [
    {
     "name": "stdin",
     "output_type": "stream",
     "text": [
      "Enter a value:  done\n"
     ]
    },
    {
     "name": "stdout",
     "output_type": "stream",
     "text": [
      "Done\n"
     ]
    }
   ],
   "source": [
    "# Print the inputted value as it is and break the loop if the value is \"done\"\n",
    "\n",
    "while True:\n",
    "  \n",
    "    user_input = input(\"Enter a value: \")\n",
    "\n",
    "    if user_input.lower() == 'done':\n",
    "        print(\"Done\")\n",
    "        break"
   ]
  },
  {
   "cell_type": "code",
   "execution_count": 11,
   "id": "4c110020-9038-4588-8853-a1ba2750977d",
   "metadata": {},
   "outputs": [
    {
     "name": "stdout",
     "output_type": "stream",
     "text": [
      "1\n",
      "2\n",
      "Fizz\n",
      "4\n",
      "Buzz\n",
      "Fizz\n",
      "7\n",
      "8\n",
      "Fizz\n",
      "Buzz\n"
     ]
    }
   ],
   "source": [
    "# prints the numbers from 1 to 10. But for multiples of three print \"Fizz\" instead of the number and for the multiple of five print \"Buzz\". For numbers which are multiples of both three and five print \"FizzBuzz\"\n",
    "\n",
    "for i in range(1, 11):\n",
    "    if i % 3 == 0 and i % 5 == 0:\n",
    "        print(\"FizzBuzz\")\n",
    "    elif i % 3 == 0:\n",
    "        print(\"Fizz\")\n",
    "    elif i % 5 == 0:\n",
    "        print(\"Buzz\")\n",
    "    else:\n",
    "        print(i)"
   ]
  },
  {
   "cell_type": "code",
   "execution_count": 13,
   "id": "4ed5c956-649d-43fb-a004-e5575276fddf",
   "metadata": {},
   "outputs": [
    {
     "name": "stdout",
     "output_type": "stream",
     "text": [
      "5 4 3 2 1 \n",
      "4 3 2 1 \n",
      "3 2 1 \n",
      "2 1 \n",
      "1 \n"
     ]
    }
   ],
   "source": [
    "# pattern printing\n",
    "\n",
    "for i in range(5, 0, -1):\n",
    "    for j in range(i, 0, -1):\n",
    "        print(j, end=\" \")\n",
    "    print()"
   ]
  },
  {
   "cell_type": "code",
   "execution_count": null,
   "id": "f9152f33-0836-409a-83a9-6f5b4bdeabd6",
   "metadata": {},
   "outputs": [],
   "source": []
  }
 ],
 "metadata": {
  "kernelspec": {
   "display_name": "Python [conda env:base] *",
   "language": "python",
   "name": "conda-base-py"
  },
  "language_info": {
   "codemirror_mode": {
    "name": "ipython",
    "version": 3
   },
   "file_extension": ".py",
   "mimetype": "text/x-python",
   "name": "python",
   "nbconvert_exporter": "python",
   "pygments_lexer": "ipython3",
   "version": "3.12.7"
  }
 },
 "nbformat": 4,
 "nbformat_minor": 5
}
