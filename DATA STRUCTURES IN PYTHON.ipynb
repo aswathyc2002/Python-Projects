{
 "cells": [
  {
   "cell_type": "code",
   "execution_count": null,
   "id": "5b37155d-edda-4f40-ab66-8ed039a18338",
   "metadata": {},
   "outputs": [],
   "source": [
    "\n",
    "# Q1. Create a list of 5 random numbers and print the list\n",
    "\n",
    "import random\n",
    "random_list = [random.randint(1,100) for _ in range(5)]\n",
    "print(\"List of random numbers:\",random_list)"
   ]
  },
  {
   "cell_type": "code",
   "execution_count": 6,
   "id": "67e7e855-3a19-4ea4-900c-69a4b27e9ccf",
   "metadata": {},
   "outputs": [
    {
     "name": "stdout",
     "output_type": "stream",
     "text": [
      "Updated list: [17, 100, 77, 21, 98, 105, 126, 166]\n"
     ]
    }
   ],
   "source": [
    "# Q2. Insert 3 new values to the list and print the updated list\n",
    "\n",
    "random_list.extend([105,126,166])\n",
    "print(\"Updated list:\",random_list)"
   ]
  },
  {
   "cell_type": "code",
   "execution_count": 8,
   "id": "a1296073-86c9-4d90-81f7-4d18e5a4ada2",
   "metadata": {},
   "outputs": [
    {
     "name": "stdout",
     "output_type": "stream",
     "text": [
      "17\n",
      "100\n",
      "77\n",
      "21\n",
      "98\n",
      "105\n",
      "126\n",
      "166\n"
     ]
    }
   ],
   "source": [
    "# Q3. Use a for loop to print each element in the list\n",
    "\n",
    "for num in random_list:\n",
    "    print(num)"
   ]
  },
  {
   "cell_type": "code",
   "execution_count": 12,
   "id": "0be7e68b-79f9-4246-ba92-c5e7a1513daa",
   "metadata": {},
   "outputs": [
    {
     "name": "stdout",
     "output_type": "stream",
     "text": [
      "Dictionary: {'name': 'James', 'age': 25, 'address': 'New york'}\n"
     ]
    }
   ],
   "source": [
    "# Q1. Create a dictionary with given keys and values\n",
    "\n",
    "person_details = {'name' : 'James', 'age' : 25, 'address' : 'New york'}\n",
    "print(\"Dictionary:\",person_details)"
   ]
  },
  {
   "cell_type": "code",
   "execution_count": 14,
   "id": "7928e9af-762c-4850-8b1c-e46d7adc8c81",
   "metadata": {},
   "outputs": [
    {
     "name": "stdout",
     "output_type": "stream",
     "text": [
      "Updated dictionary: {'name': 'James', 'age': 25, 'address': 'New york', 'phone': '1234567890'}\n"
     ]
    }
   ],
   "source": [
    "# Q2. Add a new key value pair to created dictionary\n",
    "\n",
    "person_details['phone'] = '1234567890'\n",
    "print(\"Updated dictionary:\" ,person_details)"
   ]
  },
  {
   "cell_type": "code",
   "execution_count": 16,
   "id": "fb06ef92-dc94-4f18-b637-54ba39ac0318",
   "metadata": {},
   "outputs": [
    {
     "name": "stdout",
     "output_type": "stream",
     "text": [
      "Set: {1, 2, 3, 4, 5}\n"
     ]
    }
   ],
   "source": [
    "# Q1. Create a set with values 1,2,3,4, and 5\n",
    "\n",
    "numbers_set = {1, 2, 3, 4, 5}\n",
    "print(\"Set:\", numbers_set)"
   ]
  },
  {
   "cell_type": "code",
   "execution_count": 18,
   "id": "d47127ff-016d-40f9-9245-f27b5b631b16",
   "metadata": {},
   "outputs": [
    {
     "name": "stdout",
     "output_type": "stream",
     "text": [
      "Updated Set: {1, 2, 3, 4, 5, 6}\n"
     ]
    }
   ],
   "source": [
    "# Q2. Add the value 6 to the created set\n",
    "\n",
    "numbers_set.add(6)\n",
    "print(\"Updated Set:\", numbers_set)"
   ]
  },
  {
   "cell_type": "code",
   "execution_count": 20,
   "id": "88b1ebac-aa10-4504-b4be-dc83b9dfb298",
   "metadata": {},
   "outputs": [
    {
     "name": "stdout",
     "output_type": "stream",
     "text": [
      "Set after removing: {1, 2, 4, 5, 6}\n"
     ]
    }
   ],
   "source": [
    "# Q3. Remove the value 3 from the set created\n",
    "\n",
    "numbers_set.remove(3)\n",
    "print(\"Set after removing:\", numbers_set)"
   ]
  },
  {
   "cell_type": "code",
   "execution_count": 22,
   "id": "6105fc42-3b30-4bb8-b57f-d56220a6eead",
   "metadata": {},
   "outputs": [
    {
     "name": "stdout",
     "output_type": "stream",
     "text": [
      "Tuple: (1, 2, 3, 4)\n"
     ]
    }
   ],
   "source": [
    "# Q1. Create tuple with values 1,2,3, and 4\n",
    "\n",
    "numbers_tuple = (1, 2, 3, 4)\n",
    "print(\"Tuple:\", numbers_tuple)"
   ]
  },
  {
   "cell_type": "code",
   "execution_count": 24,
   "id": "ea62701c-ef30-4247-bf5a-d94d11dddba9",
   "metadata": {},
   "outputs": [
    {
     "name": "stdout",
     "output_type": "stream",
     "text": [
      "Lenght of Tuple: 4\n"
     ]
    }
   ],
   "source": [
    "# Q2. print the length of tuple created\n",
    "\n",
    "print(\"Lenght of Tuple:\",len(numbers_tuple))"
   ]
  },
  {
   "cell_type": "code",
   "execution_count": null,
   "id": "c24057a2-85f3-4e44-b032-e88e0f4c59fb",
   "metadata": {},
   "outputs": [],
   "source": []
  }
 ],
 "metadata": {
  "kernelspec": {
   "display_name": "Python [conda env:base] *",
   "language": "python",
   "name": "conda-base-py"
  },
  "language_info": {
   "codemirror_mode": {
    "name": "ipython",
    "version": 3
   },
   "file_extension": ".py",
   "mimetype": "text/x-python",
   "name": "python",
   "nbconvert_exporter": "python",
   "pygments_lexer": "ipython3",
   "version": "3.12.7"
  }
 },
 "nbformat": 4,
 "nbformat_minor": 5
}
